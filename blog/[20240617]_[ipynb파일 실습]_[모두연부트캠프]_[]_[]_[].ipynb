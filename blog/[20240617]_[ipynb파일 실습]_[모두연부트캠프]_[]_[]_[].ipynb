{
  "nbformat": 4,
  "nbformat_minor": 0,
  "metadata": {
    "colab": {
      "provenance": []
    },
    "kernelspec": {
      "name": "python3",
      "display_name": "Python 3"
    },
    "language_info": {
      "name": "python"
    }
  },
  "cells": [
    {
      "cell_type": "markdown",
      "source": [
        "# 주석"
      ],
      "metadata": {
        "id": "52xICzKgwsEc"
      }
    },
    {
      "cell_type": "markdown",
      "source": [
        "1. 기능에 대한 설명\n",
        "2. 작업을 하다가 일시 중단\n",
        "3. 에러 메시지가 있어서 에러 수정\n",
        "4. 상대방이 나의 코드를 알아볼수 있도록 도움"
      ],
      "metadata": {
        "id": "P8s04IxBx6Dx"
      }
    },
    {
      "cell_type": "code",
      "source": [
        "# 이 부분은 주석입니다. 한줄 주석\n",
        "print(\"Hello world\") # 이 부분은 주석입니다. 한줄 주석"
      ],
      "metadata": {
        "colab": {
          "base_uri": "https://localhost:8080/"
        },
        "id": "1QessqBrxsMP",
        "outputId": "805175b2-4af0-4665-a7e9-61057062d0e8"
      },
      "execution_count": null,
      "outputs": [
        {
          "output_type": "stream",
          "name": "stdout",
          "text": [
            "Hello world\n"
          ]
        }
      ]
    },
    {
      "cell_type": "code",
      "source": [
        "'''\n",
        "이것은\n",
        "여러줄에 걸친\n",
        "주석입니다.\n",
        "'''\n",
        "print(\"Hello world\")"
      ],
      "metadata": {
        "colab": {
          "base_uri": "https://localhost:8080/"
        },
        "id": "jf0wGg_2y-cP",
        "outputId": "e5ed6949-26c5-4ad2-d794-dc3ec4d6f7f9"
      },
      "execution_count": null,
      "outputs": [
        {
          "output_type": "stream",
          "name": "stdout",
          "text": [
            "Hello world\n"
          ]
        }
      ]
    },
    {
      "cell_type": "code",
      "source": [
        "\"\"\"\n",
        "이것은\n",
        "여러줄에 걸친\n",
        "주석입니다.\n",
        "\"\"\"\n",
        "print(\"Hello world\")"
      ],
      "metadata": {
        "colab": {
          "base_uri": "https://localhost:8080/"
        },
        "id": "LXXieHlDzCgd",
        "outputId": "e78a529d-8e8a-486d-81f8-8596bb460046"
      },
      "execution_count": null,
      "outputs": [
        {
          "output_type": "stream",
          "name": "stdout",
          "text": [
            "Hello world\n"
          ]
        }
      ]
    },
    {
      "cell_type": "markdown",
      "source": [
        "# 출력 print\n",
        "\n",
        "파이선 3.6부터 나온 문법 f string"
      ],
      "metadata": {
        "id": "fOIit0knzbst"
      }
    },
    {
      "cell_type": "code",
      "source": [
        "name = \"Alice\"  # 문자를 입력할때는 무조건 \"\" 또는 ''입력하셔야합니다.\n",
        "age = 30  # 숫자는 상관없습니다.\n",
        "\n",
        "# f-string 사용\n",
        "print(f\"이름: {name}, 나이: {age}\") #출력시에는 문자열의 따옴표는 없어집니다."
      ],
      "metadata": {
        "colab": {
          "base_uri": "https://localhost:8080/"
        },
        "id": "1oHx7oKtzKrD",
        "outputId": "5c02cb04-c30d-4e58-8b3d-1f574a2041b4"
      },
      "execution_count": null,
      "outputs": [
        {
          "output_type": "stream",
          "name": "stdout",
          "text": [
            "이름: Alice, 나이: 30\n"
          ]
        }
      ]
    },
    {
      "cell_type": "markdown",
      "source": [
        "# 변수\n",
        "\n",
        "- 정수형 변수 x에 10을 할당하세요.\n",
        "- 문자열 변수 name에 \"John\"을 할당하세요.\n",
        "- 실수형 변수 pi에 3.14를 할당하세요."
      ],
      "metadata": {
        "id": "HK2JraUx2hwE"
      }
    },
    {
      "cell_type": "code",
      "source": [
        "x = 10\n",
        "name = \"John\"\n",
        "pi = 3.14"
      ],
      "metadata": {
        "id": "e-ku7uuC0kp7"
      },
      "execution_count": null,
      "outputs": []
    },
    {
      "cell_type": "code",
      "source": [
        "print(f\"제 나이는 {x} 입니다., 이름은 {name} 입니다. , 파이는 {pi} 입니다.\")"
      ],
      "metadata": {
        "colab": {
          "base_uri": "https://localhost:8080/"
        },
        "id": "o-PuWVW221Or",
        "outputId": "93615300-ded1-4f8e-acfc-29fafe4f49d5"
      },
      "execution_count": null,
      "outputs": [
        {
          "output_type": "stream",
          "name": "stdout",
          "text": [
            "제 나이는 10 입니다., 이름은 John 입니다. , 파이는 3.14 입니다.\n"
          ]
        }
      ]
    },
    {
      "cell_type": "markdown",
      "source": [
        "- 변수 x에 5를 더한 값을 다시 x에 할당하세요.\n",
        "- 변수 name에 \" Doe\"을 붙인 값을 다시 name에 할당하세요.\n",
        "- 변수 pi에 2를 곱한 값을 다시 pi에 할당하세요."
      ],
      "metadata": {
        "id": "VAWZS5YI3ykt"
      }
    },
    {
      "cell_type": "code",
      "source": [
        "x = x + 5\n",
        "name = name + \"Doe\"\n",
        "pi = pi * 2"
      ],
      "metadata": {
        "id": "WzccJI9g3yFM"
      },
      "execution_count": null,
      "outputs": []
    },
    {
      "cell_type": "code",
      "source": [
        "print(f\"제 나이는 {x} 입니다., 이름 은 {name} 입니다. , 파이는 {pi} 입니다.\")"
      ],
      "metadata": {
        "colab": {
          "base_uri": "https://localhost:8080/"
        },
        "id": "Ny75Mcyq286E",
        "outputId": "79f487f6-7275-4d43-b3f9-12b6d26bc2a9"
      },
      "execution_count": null,
      "outputs": [
        {
          "output_type": "stream",
          "name": "stdout",
          "text": [
            "제 나이는 15 입니다., \"이름\"은 JohnDoe 입니다. , 파이는 6.28 입니다.\n"
          ]
        }
      ]
    },
    {
      "cell_type": "markdown",
      "source": [
        "# 자료형"
      ],
      "metadata": {
        "id": "F4JS9uEf7a-d"
      }
    },
    {
      "cell_type": "code",
      "source": [
        "a = True\n",
        "b = False\n",
        "c = \"True\"\n",
        "d = \"False\""
      ],
      "metadata": {
        "id": "GUfQOmq54Vcz"
      },
      "execution_count": null,
      "outputs": []
    },
    {
      "cell_type": "code",
      "source": [
        "print(a, b, c, d)"
      ],
      "metadata": {
        "colab": {
          "base_uri": "https://localhost:8080/"
        },
        "id": "49s1QyJB7gsH",
        "outputId": "9f42fc1b-09e5-4cda-ca56-e1ed0a44264e"
      },
      "execution_count": null,
      "outputs": [
        {
          "output_type": "stream",
          "name": "stdout",
          "text": [
            "True False True False\n"
          ]
        }
      ]
    },
    {
      "cell_type": "code",
      "source": [
        "# 어떤 자료형이냐? Type를 사용하면 된다.\n",
        "print(type(a))\n",
        "print(type(b))\n",
        "print(type(c))\n",
        "print(type(d))"
      ],
      "metadata": {
        "colab": {
          "base_uri": "https://localhost:8080/"
        },
        "id": "pN5hORev7hi1",
        "outputId": "ff05ac7a-add4-4274-ce2a-d8919b951a7d"
      },
      "execution_count": null,
      "outputs": [
        {
          "output_type": "stream",
          "name": "stdout",
          "text": [
            "<class 'bool'>\n",
            "<class 'bool'>\n",
            "<class 'str'>\n",
            "<class 'str'>\n"
          ]
        }
      ]
    },
    {
      "cell_type": "code",
      "source": [
        "ab = a + b"
      ],
      "metadata": {
        "id": "TRjl7jfm7ksS"
      },
      "execution_count": null,
      "outputs": []
    },
    {
      "cell_type": "code",
      "source": [
        "print(ab)"
      ],
      "metadata": {
        "colab": {
          "base_uri": "https://localhost:8080/"
        },
        "id": "fMjLPLeB8Wol",
        "outputId": "10cc330f-8f5b-407b-974c-5cad45ae6973"
      },
      "execution_count": null,
      "outputs": [
        {
          "output_type": "stream",
          "name": "stdout",
          "text": [
            "1\n"
          ]
        }
      ]
    },
    {
      "cell_type": "code",
      "source": [
        "num_str = \"10\"\n",
        "print(num_str)\n",
        "print(type(num_str))\n",
        "num_int = int(num_str)\n",
        "print(num_int)\n",
        "print(type(num_int))\n",
        "\n",
        "num_flo = float(num_int)\n",
        "print(num_flo)\n",
        "print(type(num_flo))"
      ],
      "metadata": {
        "colab": {
          "base_uri": "https://localhost:8080/"
        },
        "id": "T-9qaz968XQ-",
        "outputId": "e7757fc7-1b61-4aa6-b61c-88bcae4ced5f"
      },
      "execution_count": null,
      "outputs": [
        {
          "output_type": "stream",
          "name": "stdout",
          "text": [
            "10\n",
            "<class 'str'>\n",
            "10\n",
            "<class 'int'>\n",
            "10.0\n",
            "<class 'float'>\n"
          ]
        }
      ]
    },
    {
      "cell_type": "code",
      "source": [],
      "metadata": {
        "id": "qmFz-tTK9LlN"
      },
      "execution_count": null,
      "outputs": []
    }
  ]
}